{
  "nbformat": 4,
  "nbformat_minor": 0,
  "metadata": {
    "colab": {
      "name": "Stock Price Prediction",
      "provenance": [],
      "collapsed_sections": [],
      "authorship_tag": "ABX9TyNrZdKoUrg21kroxzwQ30dY",
      "include_colab_link": true
    },
    "kernelspec": {
      "name": "python3",
      "display_name": "Python 3"
    }
  },
  "cells": [
    {
      "cell_type": "markdown",
      "metadata": {
        "id": "view-in-github",
        "colab_type": "text"
      },
      "source": [
        "<a href=\"https://colab.research.google.com/github/kirtiman24/Stock-Price-Prediction/blob/master/Stock_Price_Prediction.ipynb\" target=\"_parent\"><img src=\"https://colab.research.google.com/assets/colab-badge.svg\" alt=\"Open In Colab\"/></a>"
      ]
    },
    {
      "cell_type": "code",
      "metadata": {
        "id": "B-sCHXlf-SoR",
        "colab_type": "code",
        "colab": {}
      },
      "source": [
        "import numpy as np\n",
        "import matplotlib.pyplot as plt\n",
        "import pandas as pd\n",
        "import scipy"
      ],
      "execution_count": 0,
      "outputs": []
    },
    {
      "cell_type": "code",
      "metadata": {
        "id": "b87Wh6CYBnUe",
        "colab_type": "code",
        "colab": {}
      },
      "source": [
        "x_train=pd.read_csv('x_train.csv')"
      ],
      "execution_count": 0,
      "outputs": []
    },
    {
      "cell_type": "code",
      "metadata": {
        "id": "PqL7DkgjpHo2",
        "colab_type": "code",
        "colab": {}
      },
      "source": [
        "y_train=pd.read_csv('y_train.csv')"
      ],
      "execution_count": 0,
      "outputs": []
    },
    {
      "cell_type": "code",
      "metadata": {
        "id": "T2J5y0yP6117",
        "colab_type": "code",
        "outputId": "f7e86e55-0e4d-4fdc-93a1-204e1c528061",
        "colab": {
          "base_uri": "https://localhost:8080/",
          "height": 204
        }
      },
      "source": [
        "x_train.head(5)"
      ],
      "execution_count": 26,
      "outputs": [
        {
          "output_type": "execute_result",
          "data": {
            "text/plain": [
              "(     High\n",
              " 0  332.83\n",
              " 1  333.87\n",
              " 2  330.75\n",
              " 3  328.77\n",
              " 4  322.29,      High\n",
              " 0  333.87\n",
              " 1  330.75\n",
              " 2  328.77\n",
              " 3  322.29\n",
              " 4  315.72)"
            ]
          },
          "metadata": {
            "tags": []
          },
          "execution_count": 26
        }
      ]
    },
    {
      "cell_type": "code",
      "metadata": {
        "id": "ejNtIgCO631V",
        "colab_type": "code",
        "outputId": "ca588669-c294-46bb-d1b8-3e45e2769b77",
        "colab": {
          "base_uri": "https://localhost:8080/",
          "height": 204
        }
      },
      "source": [
        "y_train.head(5)"
      ],
      "execution_count": 27,
      "outputs": [
        {
          "output_type": "execute_result",
          "data": {
            "text/html": [
              "<div>\n",
              "<style scoped>\n",
              "    .dataframe tbody tr th:only-of-type {\n",
              "        vertical-align: middle;\n",
              "    }\n",
              "\n",
              "    .dataframe tbody tr th {\n",
              "        vertical-align: top;\n",
              "    }\n",
              "\n",
              "    .dataframe thead th {\n",
              "        text-align: right;\n",
              "    }\n",
              "</style>\n",
              "<table border=\"1\" class=\"dataframe\">\n",
              "  <thead>\n",
              "    <tr style=\"text-align: right;\">\n",
              "      <th></th>\n",
              "      <th>High</th>\n",
              "    </tr>\n",
              "  </thead>\n",
              "  <tbody>\n",
              "    <tr>\n",
              "      <th>0</th>\n",
              "      <td>333.87</td>\n",
              "    </tr>\n",
              "    <tr>\n",
              "      <th>1</th>\n",
              "      <td>330.75</td>\n",
              "    </tr>\n",
              "    <tr>\n",
              "      <th>2</th>\n",
              "      <td>328.77</td>\n",
              "    </tr>\n",
              "    <tr>\n",
              "      <th>3</th>\n",
              "      <td>322.29</td>\n",
              "    </tr>\n",
              "    <tr>\n",
              "      <th>4</th>\n",
              "      <td>315.72</td>\n",
              "    </tr>\n",
              "  </tbody>\n",
              "</table>\n",
              "</div>"
            ],
            "text/plain": [
              "     High\n",
              "0  333.87\n",
              "1  330.75\n",
              "2  328.77\n",
              "3  322.29\n",
              "4  315.72"
            ]
          },
          "metadata": {
            "tags": []
          },
          "execution_count": 27
        }
      ]
    },
    {
      "cell_type": "code",
      "metadata": {
        "id": "GZtIwIqj7HMs",
        "colab_type": "code",
        "outputId": "7bc48e4e-75e1-4195-d494-c7fe3fe69e8f",
        "colab": {
          "base_uri": "https://localhost:8080/",
          "height": 609
        }
      },
      "source": [
        "plt.figure(figsize=(15,10))\n",
        "plt.plot(x_train['High'])\n",
        "plt.ylabel('Stock Price ')\n",
        "plt.legend(loc='best')\n",
        "plt.show()"
      ],
      "execution_count": 5,
      "outputs": [
        {
          "output_type": "stream",
          "text": [
            "No handles with labels found to put in legend.\n"
          ],
          "name": "stderr"
        },
        {
          "output_type": "display_data",
          "data": {
            "image/png": "[encoded data removed]",
            "text/plain": [
              "<Figure size 1080x720 with 1 Axes>"
            ]
          },
          "metadata": {
            "tags": [],
            "needs_background": "light"
          }
        }
      ]
    },
    {
      "cell_type": "code",
      "metadata": {
        "id": "rWjt9XjeJtRc",
        "colab_type": "code",
        "colab": {}
      },
      "source": [
        "#Data Preprocessing\n",
        "from sklearn.preprocessing import MinMaxScaler\n",
        "sc = MinMaxScaler(feature_range = (0, 1))\n",
        "x_train = sc.fit_transform(x_train)\n",
        "y_train=sc.fit_transform(y_train)"
      ],
      "execution_count": 0,
      "outputs": []
    },
    {
      "cell_type": "code",
      "metadata": {
        "id": "fL0yhWhsmre-",
        "colab_type": "code",
        "colab": {
          "base_uri": "https://localhost:8080/",
          "height": 850
        },
        "outputId": "0da96142-63d3-4591-b274-8d81ce65b79b"
      },
      "source": [
        "print(X_train)"
      ],
      "execution_count": 16,
      "outputs": [
        {
          "output_type": "stream",
          "text": [
            "[[[0.09640129]\n",
            "  [0.09834351]\n",
            "  [0.09251685]\n",
            "  ...\n",
            "  [0.07903337]\n",
            "  [0.08276841]\n",
            "  [0.08751191]]\n",
            "\n",
            " [[0.09834351]\n",
            "  [0.09251685]\n",
            "  [0.08881917]\n",
            "  ...\n",
            "  [0.08276841]\n",
            "  [0.08751191]\n",
            "  [0.08564439]]\n",
            "\n",
            " [[0.09251685]\n",
            "  [0.08881917]\n",
            "  [0.07671765]\n",
            "  ...\n",
            "  [0.08751191]\n",
            "  [0.08564439]\n",
            "  [0.08274973]]\n",
            "\n",
            " ...\n",
            "\n",
            " [[0.9332549 ]\n",
            "  [0.92416008]\n",
            "  [0.92909033]\n",
            "  ...\n",
            "  [0.96264963]\n",
            "  [0.95637477]\n",
            "  [0.95529161]]\n",
            "\n",
            " [[0.92416008]\n",
            "  [0.92909033]\n",
            "  [0.93536519]\n",
            "  ...\n",
            "  [0.95637477]\n",
            "  [0.95529161]\n",
            "  [0.96485331]]\n",
            "\n",
            " [[0.92909033]\n",
            "  [0.93536519]\n",
            "  [0.93239584]\n",
            "  ...\n",
            "  [0.95529161]\n",
            "  [0.96485331]\n",
            "  [0.95807422]]]\n"
          ],
          "name": "stdout"
        }
      ]
    },
    {
      "cell_type": "code",
      "metadata": {
        "id": "WYc7PeGMpp-g",
        "colab_type": "code",
        "colab": {
          "base_uri": "https://localhost:8080/",
          "height": 136
        },
        "outputId": "c62284f1-6a48-4e82-a873-36c12ae63117"
      },
      "source": [
        "print(y_train)"
      ],
      "execution_count": 29,
      "outputs": [
        {
          "output_type": "stream",
          "text": [
            "[[0.09834351]\n",
            " [0.09251685]\n",
            " [0.08881917]\n",
            " ...\n",
            " [0.95807422]\n",
            " [0.94257381]\n",
            " [0.93669113]]\n"
          ],
          "name": "stdout"
        }
      ]
    },
    {
      "cell_type": "code",
      "metadata": {
        "id": "SgMt6FzdptvR",
        "colab_type": "code",
        "colab": {
          "base_uri": "https://localhost:8080/",
          "height": 680
        },
        "outputId": "409f4637-63c1-4eee-9594-594b5002c759"
      },
      "source": [
        "#Converting our data into array for feeding into the LSTM Model\n",
        "x_train=np.array(x_train)\n",
        "y_train=np.array(y_train)\n",
        "x_train=np.reshape(x_train,(x_train.shape[0],x_train.shape[1],1))\n",
        "print(x_train[0:20])\n"
      ],
      "execution_count": 32,
      "outputs": [
        {
          "output_type": "stream",
          "text": [
            "[[[0.09640129]]\n",
            "\n",
            " [[0.09834351]]\n",
            "\n",
            " [[0.09251685]]\n",
            "\n",
            " [[0.08881917]]\n",
            "\n",
            " [[0.07671765]]\n",
            "\n",
            " [[0.06444805]]\n",
            "\n",
            " [[0.06033951]]\n",
            "\n",
            " [[0.063589  ]]\n",
            "\n",
            " [[0.05806114]]\n",
            "\n",
            " [[0.06274861]]\n",
            "\n",
            " [[0.06463481]]\n",
            "\n",
            " [[0.07113377]]\n",
            "\n",
            " [[0.02463257]]\n",
            "\n",
            " [[0.02244757]]\n",
            "\n",
            " [[0.02153249]]\n",
            "\n",
            " [[0.01318468]]\n",
            "\n",
            " [[0.00926289]]\n",
            "\n",
            " [[0.01469737]]\n",
            "\n",
            " [[0.01439857]]\n",
            "\n",
            " [[0.01811493]]]\n"
          ],
          "name": "stdout"
        }
      ]
    },
    {
      "cell_type": "code",
      "metadata": {
        "id": "30aRGu4WQD6g",
        "colab_type": "code",
        "colab": {
          "base_uri": "https://localhost:8080/",
          "height": 34
        },
        "outputId": "31742f4d-4733-47de-df92-7c8417947e60"
      },
      "source": [
        "from keras.models import Sequential\n",
        "from keras.layers import Dense\n",
        "from keras.layers import LSTM\n",
        "from keras.layers import Dropout"
      ],
      "execution_count": 17,
      "outputs": [
        {
          "output_type": "stream",
          "text": [
            "Using TensorFlow backend.\n"
          ],
          "name": "stderr"
        }
      ]
    },
    {
      "cell_type": "code",
      "metadata": {
        "id": "c_KDRxCYMa9o",
        "colab_type": "code",
        "outputId": "73b7df9d-e9a4-4c6d-af8c-738fb3ee4812",
        "colab": {
          "base_uri": "https://localhost:8080/",
          "height": 714
        }
      },
      "source": [
        "#LSTM Model Architecture\n",
        "regressor = Sequential()\n",
        "\n",
        "regressor.add(LSTM(units = 50, return_sequences = True, input_shape = (x_train.shape[1], 1)))\n",
        "regressor.add(Dropout(0.2))\n",
        "\n",
        "regressor.add(LSTM(units = 50, return_sequences = True))\n",
        "regressor.add(Dropout(0.2))\n",
        "\n",
        "regressor.add(LSTM(units = 50, return_sequences = True))\n",
        "regressor.add(Dropout(0.2))\n",
        "\n",
        "regressor.add(LSTM(units = 50))\n",
        "regressor.add(Dropout(0.2))\n",
        "\n",
        "regressor.add(Dense(units = 1))\n",
        "\n",
        "regressor.compile(optimizer = 'adam', loss = 'mean_squared_error')\n",
        "\n",
        "regressor.fit(x_train, y_train, epochs = 20, batch_size = 32)\n"
      ],
      "execution_count": 33,
      "outputs": [
        {
          "output_type": "stream",
          "text": [
            "Epoch 1/20\n",
            "1257/1257 [==============================] - 1s 1ms/step - loss: 0.2183\n",
            "Epoch 2/20\n",
            "1257/1257 [==============================] - 0s 158us/step - loss: 0.0466\n",
            "Epoch 3/20\n",
            "1257/1257 [==============================] - 0s 151us/step - loss: 0.0164\n",
            "Epoch 4/20\n",
            "1257/1257 [==============================] - 0s 156us/step - loss: 0.0083\n",
            "Epoch 5/20\n",
            "1257/1257 [==============================] - 0s 155us/step - loss: 0.0098\n",
            "Epoch 6/20\n",
            "1257/1257 [==============================] - 0s 162us/step - loss: 0.0071\n",
            "Epoch 7/20\n",
            "1257/1257 [==============================] - 0s 161us/step - loss: 0.0061\n",
            "Epoch 8/20\n",
            "1257/1257 [==============================] - 0s 162us/step - loss: 0.0050\n",
            "Epoch 9/20\n",
            "1257/1257 [==============================] - 0s 158us/step - loss: 0.0047\n",
            "Epoch 10/20\n",
            "1257/1257 [==============================] - 0s 158us/step - loss: 0.0045\n",
            "Epoch 11/20\n",
            "1257/1257 [==============================] - 0s 183us/step - loss: 0.0043\n",
            "Epoch 12/20\n",
            "1257/1257 [==============================] - 0s 154us/step - loss: 0.0038\n",
            "Epoch 13/20\n",
            "1257/1257 [==============================] - 0s 154us/step - loss: 0.0037\n",
            "Epoch 14/20\n",
            "1257/1257 [==============================] - 0s 149us/step - loss: 0.0034\n",
            "Epoch 15/20\n",
            "1257/1257 [==============================] - 0s 156us/step - loss: 0.0038\n",
            "Epoch 16/20\n",
            "1257/1257 [==============================] - 0s 155us/step - loss: 0.0032\n",
            "Epoch 17/20\n",
            "1257/1257 [==============================] - 0s 176us/step - loss: 0.0034\n",
            "Epoch 18/20\n",
            "1257/1257 [==============================] - 0s 152us/step - loss: 0.0030\n",
            "Epoch 19/20\n",
            "1257/1257 [==============================] - 0s 155us/step - loss: 0.0030\n",
            "Epoch 20/20\n",
            "1257/1257 [==============================] - 0s 160us/step - loss: 0.0030\n"
          ],
          "name": "stdout"
        },
        {
          "output_type": "execute_result",
          "data": {
            "text/plain": [
              "<keras.callbacks.callbacks.History at 0x7f9db843ceb8>"
            ]
          },
          "metadata": {
            "tags": []
          },
          "execution_count": 33
        }
      ]
    },
    {
      "cell_type": "code",
      "metadata": {
        "id": "mFE-xxv7TFIP",
        "colab_type": "code",
        "colab": {}
      },
      "source": [
        "x_test=pd.read_csv('x_test.csv')"
      ],
      "execution_count": 0,
      "outputs": []
    },
    {
      "cell_type": "code",
      "metadata": {
        "id": "fC9aDxKmWqWf",
        "colab_type": "code",
        "colab": {}
      },
      "source": [
        "x_test=sc.fit_transform(x_test)"
      ],
      "execution_count": 0,
      "outputs": []
    },
    {
      "cell_type": "code",
      "metadata": {
        "id": "BMruXhBRoDa0",
        "colab_type": "code",
        "colab": {
          "base_uri": "https://localhost:8080/",
          "height": 646
        },
        "outputId": "d6df8570-ef35-4b10-a1f2-e7510ef87364"
      },
      "source": [
        "print(x_test)"
      ],
      "execution_count": 51,
      "outputs": [
        {
          "output_type": "stream",
          "text": [
            "[[[0.        ]]\n",
            "\n",
            " [[0.03268349]]\n",
            "\n",
            " [[0.09269878]]\n",
            "\n",
            " [[0.34919725]]\n",
            "\n",
            " [[0.38876147]]\n",
            "\n",
            " [[0.37270642]]\n",
            "\n",
            " [[0.35397554]]\n",
            "\n",
            " [[0.33944954]]\n",
            "\n",
            " [[0.41265291]]\n",
            "\n",
            " [[0.33467125]]\n",
            "\n",
            " [[0.31689602]]\n",
            "\n",
            " [[0.37939602]]\n",
            "\n",
            " [[0.33027523]]\n",
            "\n",
            " [[0.5970948 ]]\n",
            "\n",
            " [[0.69323394]]\n",
            "\n",
            " [[0.88188073]]\n",
            "\n",
            " [[0.92450306]]\n",
            "\n",
            " [[1.        ]]\n",
            "\n",
            " [[0.50095566]]]\n"
          ],
          "name": "stdout"
        }
      ]
    },
    {
      "cell_type": "code",
      "metadata": {
        "id": "0TIbS3hBoFbR",
        "colab_type": "code",
        "colab": {
          "base_uri": "https://localhost:8080/",
          "height": 136
        },
        "outputId": "93853443-089b-4952-a130-3adc33f47504"
      },
      "source": [
        "#Converting the test data into array \n",
        "X_test=np.array(x_test)\n",
        "X_test=np.reshape(X_test,(X_test.shape[0],X_test.shape[1],1))\n",
        "print(X_test[0:4])"
      ],
      "execution_count": 54,
      "outputs": [
        {
          "output_type": "stream",
          "text": [
            "[[[0.        ]]\n",
            "\n",
            " [[0.03268349]]\n",
            "\n",
            " [[0.09269878]]\n",
            "\n",
            " [[0.34919725]]]\n"
          ],
          "name": "stdout"
        }
      ]
    },
    {
      "cell_type": "code",
      "metadata": {
        "id": "0OdSCPRMqmtT",
        "colab_type": "code",
        "colab": {}
      },
      "source": [
        "#Using our test data for getting the predictions\n",
        "predicted_stock_price = regressor.predict(X_test)\n",
        "predicted_stock_price = sc.inverse_transform(predicted_stock_price)\n"
      ],
      "execution_count": 0,
      "outputs": []
    },
    {
      "cell_type": "code",
      "metadata": {
        "id": "JZUs7hvxrMzD",
        "colab_type": "code",
        "colab": {
          "base_uri": "https://localhost:8080/",
          "height": 340
        },
        "outputId": "2887f0ea-4f1b-461f-acb1-f4a6e94f0b7f"
      },
      "source": [
        "print(predicted_stock_price)"
      ],
      "execution_count": 56,
      "outputs": [
        {
          "output_type": "stream",
          "text": [
            "[[790.00476]\n",
            " [791.5583 ]\n",
            " [794.47174]\n",
            " [807.5838 ]\n",
            " [809.66034]\n",
            " [808.81714]\n",
            " [807.83435]\n",
            " [807.07306]\n",
            " [810.9156 ]\n",
            " [806.8229 ]\n",
            " [805.8933 ]\n",
            " [809.1684 ]\n",
            " [806.59283]\n",
            " [820.51416]\n",
            " [825.3404 ]\n",
            " [834.1297 ]\n",
            " [835.95465]\n",
            " [839.01764]\n",
            " [815.54425]]\n"
          ],
          "name": "stdout"
        }
      ]
    },
    {
      "cell_type": "code",
      "metadata": {
        "id": "THeKpeYhrSlL",
        "colab_type": "code",
        "colab": {}
      },
      "source": [
        "x_test=sc.inverse_transform(x_test)"
      ],
      "execution_count": 0,
      "outputs": []
    },
    {
      "cell_type": "code",
      "metadata": {
        "id": "mQAoXdHRsGj-",
        "colab_type": "code",
        "colab": {
          "base_uri": "https://localhost:8080/",
          "height": 340
        },
        "outputId": "df85946f-02c2-4027-b75a-2c7141eae7ba"
      },
      "source": [
        "print(x_test)"
      ],
      "execution_count": 58,
      "outputs": [
        {
          "output_type": "stream",
          "text": [
            "[[789.63]\n",
            " [791.34]\n",
            " [794.48]\n",
            " [807.9 ]\n",
            " [809.97]\n",
            " [809.13]\n",
            " [808.15]\n",
            " [807.39]\n",
            " [811.22]\n",
            " [807.14]\n",
            " [806.21]\n",
            " [809.48]\n",
            " [806.91]\n",
            " [820.87]\n",
            " [825.9 ]\n",
            " [835.77]\n",
            " [838.  ]\n",
            " [841.95]\n",
            " [815.84]]\n"
          ],
          "name": "stdout"
        }
      ]
    },
    {
      "cell_type": "code",
      "metadata": {
        "id": "A6I7VjhUsLya",
        "colab_type": "code",
        "colab": {
          "base_uri": "https://localhost:8080/",
          "height": 621
        },
        "outputId": "4b630e72-cced-4bb7-dfbc-90a4e6252936"
      },
      "source": [
        "plt.figure(figsize=(15,10))\n",
        "plt.plot(x_test[0:1257], color = 'red', label = 'Real  Stock Price')\n",
        "plt.plot(predicted_stock_price[0:1257], color = 'blue', label = 'Predicted  Stock Price')\n",
        "plt.title(' Stock Price Prediction')\n",
        "plt.xlabel('Time')\n",
        "plt.ylabel('Stock Price')\n",
        "plt.legend()\n",
        "plt.show()"
      ],
      "execution_count": 65,
      "outputs": [
        {
          "output_type": "display_data",
          "data": {
            "image/png": "[encoded data removed]",
            "text/plain": [
              "<Figure size 1080x720 with 1 Axes>"
            ]
          },
          "metadata": {
            "tags": [],
            "needs_background": "light"
          }
        }
      ]
    },
    {
      "cell_type": "code",
      "metadata": {
        "id": "Nel197s4sPRB",
        "colab_type": "code",
        "colab": {}
      },
      "source": [
        "df=pd.DataFrame(data=predicted_stock_price,columns=[\"High\"])\n",
        "df.to_csv('y_prediction.csv',index=True)"
      ],
      "execution_count": 0,
      "outputs": []
    },
    {
      "cell_type": "code",
      "metadata": {
        "id": "RmFvV7PWuV4c",
        "colab_type": "code",
        "colab": {}
      },
      "source": [
        ""
      ],
      "execution_count": 0,
      "outputs": []
    }
  ]
}